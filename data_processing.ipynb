{
 "cells": [
  {
   "cell_type": "code",
   "execution_count": 1,
   "id": "4ed47b58",
   "metadata": {},
   "outputs": [],
   "source": [
    "import pandas as pd\n",
    "import pyxdf"
   ]
  },
  {
   "cell_type": "code",
   "execution_count": null,
   "id": "7b173749",
   "metadata": {},
   "outputs": [],
   "source": [
    "subject = 'Subj1033'\n",
    "file_name = 'sub-CLASS_SUBJ_1033_ses-S002ONLINE_NOFES_task-Default_run-001_eeg' # file name - file extension (.xdf)\n",
    "file_path = './Data/Raw/' + subject + '/' + file_name + '.xdf'\n",
    "new_path = './Data/CSV/' + subject + '/' + file_name "
   ]
  },
  {
   "cell_type": "code",
   "execution_count": 41,
   "id": "5eb9c562",
   "metadata": {},
   "outputs": [
    {
     "name": "stdout",
     "output_type": "stream",
     "text": [
      "Stream 0:\n",
      "  Name: MarkerStream\n",
      "  Type: Markers\n",
      "  Sample count: 207\n",
      "Stream 1:\n",
      "  Name: eegoSports 000104\n",
      "  Type: EEG\n",
      "  Sample count: 542451\n",
      "✅ EEG data saved to eeg_data.csv\n",
      "✅ Marker data saved to markers.csv\n"
     ]
    }
   ],
   "source": [
    "streams, fileheader = pyxdf.load_xdf(file_path)\n",
    "\n",
    "# Example: Print info about the streams\n",
    "for i, stream in enumerate(streams):\n",
    "    print(f\"Stream {i}:\")\n",
    "    print(\"  Name:\", stream['info']['name'][0])\n",
    "    print(\"  Type:\", stream['info']['type'][0])\n",
    "    print(\"  Sample count:\", len(stream['time_series']))\n",
    "    \n",
    "eeg_data = streams[1]['time_series']\n",
    "eeg_times = streams[1]['time_stamps']\n",
    "\n",
    "# Create DataFrame with time as the first column\n",
    "eeg_df = pd.DataFrame(eeg_data, columns=[f'Ch{i+1}' for i in range(eeg_data.shape[1])])\n",
    "eeg_df.insert(0, 'Time', eeg_times)\n",
    "\n",
    "# Save to CSV\n",
    "eeg_df.to_csv(new_path + '.csv', index=False)\n",
    "print(\"✅ EEG data saved to eeg_data.csv\")\n",
    "\n",
    "marker_times = streams[0]['time_stamps']\n",
    "marker_labels = [m[0] for m in streams[0]['time_series']]\n",
    "\n",
    "# Create DataFrame\n",
    "marker_df = pd.DataFrame({\n",
    "    'Time': marker_times,\n",
    "    'Label': marker_labels\n",
    "})\n",
    "\n",
    "# Save to CSV\n",
    "marker_df.to_csv(new_path + '_markers.csv', index=False)\n",
    "print(\"✅ Marker data saved to markers.csv\")"
   ]
  }
 ],
 "metadata": {
  "kernelspec": {
   "display_name": "neural",
   "language": "python",
   "name": "python3"
  },
  "language_info": {
   "codemirror_mode": {
    "name": "ipython",
    "version": 3
   },
   "file_extension": ".py",
   "mimetype": "text/x-python",
   "name": "python",
   "nbconvert_exporter": "python",
   "pygments_lexer": "ipython3",
   "version": "3.13.2"
  }
 },
 "nbformat": 4,
 "nbformat_minor": 5
}
