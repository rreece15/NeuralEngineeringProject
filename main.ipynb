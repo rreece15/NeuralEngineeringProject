{
 "cells": [
  {
   "cell_type": "code",
   "execution_count": 13,
   "id": "b1d86b9a",
   "metadata": {},
   "outputs": [],
   "source": [
    "import pandas as pd\n",
    "import numpy as np"
   ]
  },
  {
   "cell_type": "markdown",
   "id": "ada9d058",
   "metadata": {},
   "source": [
    "This code is to parse split the messed up session into normal sessions"
   ]
  },
  {
   "cell_type": "code",
   "execution_count": 97,
   "id": "68ab9470",
   "metadata": {},
   "outputs": [],
   "source": [
    "run1 = run[run['Trial'] <= 60]\n",
    "run2 = run[run['Trial'] > 60]"
   ]
  },
  {
   "cell_type": "code",
   "execution_count": 124,
   "id": "c2299d27",
   "metadata": {},
   "outputs": [],
   "source": [
    "# Ensure the DataFrame is sorted by time\n",
    "run1_marker = run1.sort_values('Time').reset_index(drop=True)\n",
    "\n",
    "# Only keep rows with non-null labels\n",
    "label_df = run1_marker[['Time', 'Label']].dropna().copy()\n",
    "\n",
    "# Identify where the label changes (i.e., new group starts)\n",
    "label_df['PrevLabel'] = label_df['Label'].shift()\n",
    "label_df['LabelChange'] = label_df['Label'] != label_df['PrevLabel']\n",
    "\n",
    "# Keep only the first row of each new group of the same label\n",
    "first_in_group_df = label_df[label_df['LabelChange']].drop(columns=['PrevLabel', 'LabelChange'])\n",
    "\n",
    "# Reset index for a clean DataFrame\n",
    "run1_marker = first_in_group_df.reset_index(drop=True)\n",
    "\n",
    "# Ensure the DataFrame is sorted by time\n",
    "run2_marker = run2.sort_values('Time').reset_index(drop=True)\n",
    "\n",
    "# Only keep rows with non-null labels\n",
    "label_df = run2_marker[['Time', 'Label']].dropna().copy()\n",
    "\n",
    "# Identify where the label changes (i.e., new group starts)\n",
    "label_df['PrevLabel'] = label_df['Label'].shift()\n",
    "label_df['LabelChange'] = label_df['Label'] != label_df['PrevLabel']\n",
    "\n",
    "# Keep only the first row of each new group of the same label\n",
    "first_in_group_df = label_df[label_df['LabelChange']].drop(columns=['PrevLabel', 'LabelChange'])\n",
    "\n",
    "# Reset index for a clean DataFrame\n",
    "run2_marker = first_in_group_df.reset_index(drop=True)"
   ]
  },
  {
   "cell_type": "code",
   "execution_count": null,
   "id": "1a9546f4",
   "metadata": {},
   "outputs": [],
   "source": [
    "run1_eeg = run1.drop(columns=['Label', 'OutcomeClass', 'Trial'], axis=1)\n",
    "\n",
    "run2_eeg = run2.drop(columns=['Label', 'OutcomeClass', 'Trial'], axis=1)"
   ]
  },
  {
   "cell_type": "code",
   "execution_count": 128,
   "id": "9cfe6bb0",
   "metadata": {},
   "outputs": [],
   "source": [
    "run1_marker.to_csv('Data/CSV/Subj1031/sub-CLASS_SUBJ_1031_ses-S001ONLINE_FES_task-Default_run-001_eeg_markers.csv', index=False)\n",
    "run2_marker.to_csv('Data/CSV/Subj1031/sub-CLASS_SUBJ_1031_ses-S001ONLINE_NOFES_task-Default_run-001_eeg_markers.csv', index=False)\n",
    "run1_eeg.to_csv('Data/CSV/Subj1031/sub-CLASS_SUBJ_1031_ses-S001ONLINE_FES_task-Default_run-001_eeg.csv', index=False)\n",
    "run2_eeg.to_csv('Data/CSV/Subj1031/sub-CLASS_SUBJ_1031_ses-S001ONLINE_NOFES_task-Default_run-001_eeg.csv', index=False)"
   ]
  },
  {
   "cell_type": "markdown",
   "id": "5ce628e6",
   "metadata": {},
   "source": [
    "code to load data"
   ]
  },
  {
   "cell_type": "code",
   "execution_count": 129,
   "id": "edc39a60",
   "metadata": {},
   "outputs": [],
   "source": [
    "def run_parse(eeg_df, marker_df, FES):\n",
    "    eeg_df['Label'] = np.nan\n",
    "\n",
    "    # Ensure both time columns are sorted\n",
    "    eeg_df = eeg_df.sort_values('Time')\n",
    "    marker_df = marker_df.sort_values('Time').reset_index(drop=True)\n",
    "\n",
    "    # Assign label to EEG based on marker intervals\n",
    "    for i in range(len(marker_df)):\n",
    "        t_start = marker_df.loc[i, 'Time']\n",
    "        label = marker_df.loc[i, 'Label']\n",
    "        \n",
    "        if i < len(marker_df) - 1:\n",
    "            t_end = marker_df.loc[i + 1, 'Time']\n",
    "        else:\n",
    "            t_end = np.inf\n",
    "\n",
    "        eeg_df.loc[(eeg_df['Time'] >= t_start) & (eeg_df['Time'] < t_end), 'Label'] = label\n",
    "\n",
    "    eeg_df['Label'] = eeg_df['Label'].dropna().astype(float).astype(int).astype(str)\n",
    "\n",
    "    # Mapping for label → descriptive class name\n",
    "    TRIGGERS = {\n",
    "        \"MI_BEGIN\": \"200\",\n",
    "        \"MI_END\": \"220\",\n",
    "        \"MI_EARLYSTOP\": \"240\",\n",
    "        \"ROBOT_BEGIN\": \"300\",\n",
    "        \"ROBOT_END\": \"320\",\n",
    "        \"ROBOT_EARLYSTOP\": \"340\",\n",
    "        \"ROBOT_CONFIRM_STOP\": \"345\",\n",
    "        \"REST_BEGIN\": \"100\",\n",
    "        \"REST_END\": \"120\",\n",
    "        \"REST_EARLYSTOP\": \"140\"\n",
    "    }\n",
    "    label_to_class = {v: k for k, v in TRIGGERS.items()}\n",
    "    eeg_df['OutcomeClass'] = eeg_df['Label'].map(label_to_class)\n",
    "\n",
    "    # Clean up duplicate consecutive classes\n",
    "    eeg_df['PrevClass'] = eeg_df['OutcomeClass'].shift()\n",
    "    events_clean = eeg_df[(eeg_df['OutcomeClass'] != eeg_df['PrevClass']) & (eeg_df['OutcomeClass'].notna())].copy()\n",
    "    events_clean = events_clean[['Time', 'OutcomeClass']].reset_index(drop=True)\n",
    "\n",
    "    # Get just the trial start events\n",
    "    trial_begins = events_clean[events_clean['OutcomeClass'].isin(['MI_BEGIN', 'REST_BEGIN'])].reset_index(drop=True)\n",
    "\n",
    "    # Assign trial numbers\n",
    "    eeg_df['Trial'] = np.nan\n",
    "    trial_num = 0\n",
    "\n",
    "    for i in range(len(trial_begins)):\n",
    "        t_start = trial_begins.loc[i, 'Time']\n",
    "        \n",
    "        if i < len(trial_begins) - 1:\n",
    "            t_end = trial_begins.loc[i + 1, 'Time']\n",
    "        else:\n",
    "            t_end = np.inf  # last trial goes until the end of EEG data\n",
    "\n",
    "        eeg_df.loc[(eeg_df['Time'] >= t_start) & (eeg_df['Time'] < t_end), 'Trial'] = trial_num\n",
    "        trial_num += 1\n",
    "\n",
    "    # Fill in any samples before the first MI/REST_BEGIN with trial -1 (optional)\n",
    "    first_start = trial_begins['Time'].min()\n",
    "    eeg_df.loc[eeg_df['Time'] < first_start, 'Trial'] = -1\n",
    "\n",
    "    # Convert Trial to integer type\n",
    "    eeg_df['Trial'] = eeg_df['Trial'].astype(int)\n",
    "    \n",
    "    eeg_df['FES'] = FES\n",
    "    return eeg_df.drop(['PrevClass'], axis=1)\n"
   ]
  },
  {
   "cell_type": "code",
   "execution_count": 130,
   "id": "c099ed6f",
   "metadata": {},
   "outputs": [],
   "source": [
    "subjects = {'Subj1031': {'Online': {'Sessions': [{'Runs': []}, {'Runs': []}]}, 'Offline': {'Sessions': [{'Runs': []}, {'Runs': []}]}}, 'Subj1032': {'Online': {'Sessions': [{'Runs': []}, {'Runs': []}]}, 'Offline': {'Sessions': [{'Runs': []}, {'Runs': []}]}}, 'Subj1033': {'Online': {'Sessions': [{'Runs': []}, {'Runs': []}]}, 'Offline': {'Sessions': [{'Runs': []}, {'Runs': []}]}}}"
   ]
  },
  {
   "cell_type": "code",
   "execution_count": 131,
   "id": "1ba2c89b",
   "metadata": {},
   "outputs": [],
   "source": [
    "subjects['Subj1031']['Online']['Sessions'][0]['Runs'].append(run_parse(pd.read_csv('Data/CSV/Subj1031/sub-CLASS_SUBJ_1031_ses-S001ONLINE_FES_task-Default_run-001_eeg.csv'), pd.read_csv('Data/CSV/Subj1031/sub-CLASS_SUBJ_1031_ses-S001ONLINE_FES_task-Default_run-001_eeg_markers.csv'), True))\n",
    "subjects['Subj1031']['Online']['Sessions'][0]['Runs'].append(run_parse(pd.read_csv('Data/CSV/Subj1031/sub-CLASS_SUBJ_1031_ses-S001ONLINE_NOFES_task-Default_run-001_eeg.csv'), pd.read_csv('Data/CSV/Subj1031/sub-CLASS_SUBJ_1031_ses-S001ONLINE_NOFES_task-Default_run-001_eeg_markers.csv'), False))\n",
    "subjects['Subj1031']['Online']['Sessions'][1]['Runs'].append(run_parse(pd.read_csv('Data/CSV/Subj1031/sub-CLASS_SUBJ_1031_ses-S002ONLINE_FES_task-Default_run-001_eeg.csv'), pd.read_csv('Data/CSV/Subj1031/sub-CLASS_SUBJ_1031_ses-S002ONLINE_FES_task-Default_run-001_eeg_markers.csv'), True))\n",
    "subjects['Subj1031']['Online']['Sessions'][1]['Runs'].append(run_parse(pd.read_csv('Data/CSV/Subj1031/sub-CLASS_SUBJ_1031_ses-S002ONLINE_NOFES_task-Default_run-001_eeg.csv'), pd.read_csv('Data/CSV/Subj1031/sub-CLASS_SUBJ_1031_ses-S002ONLINE_NOFES_task-Default_run-001_eeg_markers.csv'), False))\n",
    "subjects['Subj1031']['Offline']['Sessions'][0]['Runs'].append(run_parse(pd.read_csv('Data/CSV/Subj1031/sub-CLASS_SUBJ_1031_ses-S001OFFLINE_FES_task-Default_run-001_eeg.csv'), pd.read_csv('Data/CSV/Subj1031/sub-CLASS_SUBJ_1031_ses-S001OFFLINE_FES_task-Default_run-001_eeg_markers.csv'), True))\n",
    "subjects['Subj1031']['Offline']['Sessions'][1]['Runs'].append(run_parse(pd.read_csv('Data/CSV/Subj1031/sub-CLASS_SUBJ_1031_ses-S002OFFLINE_NOFES_task-Default_run-001_eeg.csv'), pd.read_csv('Data/CSV/Subj1031/sub-CLASS_SUBJ_1031_ses-S002OFFLINE_NOFES_task-Default_run-001_eeg_markers.csv'), False))"
   ]
  },
  {
   "cell_type": "code",
   "execution_count": 133,
   "id": "1bd16ed2",
   "metadata": {},
   "outputs": [],
   "source": [
    "subjects['Subj1032']['Online']['Sessions'][0]['Runs'].append(run_parse(pd.read_csv('Data/CSV/Subj1032/sub-CLASS_SUBJ_1032_ses-S001ONLINE_FES_task-Default_run-001_eeg.csv'), pd.read_csv('Data/CSV/Subj1032/sub-CLASS_SUBJ_1032_ses-S001ONLINE_FES_task-Default_run-001_eeg_markers.csv'), True))\n",
    "subjects['Subj1032']['Online']['Sessions'][0]['Runs'].append(run_parse(pd.read_csv('Data/CSV/Subj1032/sub-CLASS_SUBJ_1032_ses-S001ONLINE_NOFES_task-Default_run-001_eeg.csv'), pd.read_csv('Data/CSV/Subj1032/sub-CLASS_SUBJ_1032_ses-S001ONLINE_NOFES_task-Default_run-001_eeg_markers.csv'), False))\n",
    "subjects['Subj1032']['Online']['Sessions'][1]['Runs'].append(run_parse(pd.read_csv('Data/CSV/Subj1032/sub-CLASS_SUBJ_1032_ses-S002ONLINE_FES_task-Default_run-001_eeg.csv'), pd.read_csv('Data/CSV/Subj1032/sub-CLASS_SUBJ_1032_ses-S002ONLINE_FES_task-Default_run-001_eeg_markers.csv'), True))\n",
    "subjects['Subj1032']['Online']['Sessions'][1]['Runs'].append(run_parse(pd.read_csv('Data/CSV/Subj1032/sub-CLASS_SUBJ_1032_ses-S002ONLINE_NOFES_task-Default_run-001_eeg.csv'), pd.read_csv('Data/CSV/Subj1032/sub-CLASS_SUBJ_1032_ses-S002ONLINE_NOFES_task-Default_run-001_eeg_markers.csv'), False))\n",
    "subjects['Subj1032']['Offline']['Sessions'][0]['Runs'].append(run_parse(pd.read_csv('Data/CSV/Subj1032/sub-CLASS_SUBJ_1032_ses-S001OFFLINE_FES_task-Default_run-001_eeg.csv'), pd.read_csv('Data/CSV/Subj1032/sub-CLASS_SUBJ_1032_ses-S001OFFLINE_FES_task-Default_run-001_eeg_markers.csv'), True))\n",
    "subjects['Subj1032']['Offline']['Sessions'][1]['Runs'].append(run_parse(pd.read_csv('Data/CSV/Subj1032/sub-CLASS_SUBJ_1032_ses-S002OFFLINE_NOFES_task-Default_run-001_eeg.csv'), pd.read_csv('Data/CSV/Subj1032/sub-CLASS_SUBJ_1032_ses-S002OFFLINE_NOFES_task-Default_run-001_eeg_markers.csv'), False))"
   ]
  },
  {
   "cell_type": "code",
   "execution_count": 135,
   "id": "13b8685d",
   "metadata": {},
   "outputs": [],
   "source": [
    "subjects['Subj1033']['Online']['Sessions'][0]['Runs'].append(run_parse(pd.read_csv('Data/CSV/Subj1033/sub-CLASS_SUBJ_1033_ses-S001_ONLINE_FES_task-Default_run-001_eeg.csv'), pd.read_csv('Data/CSV/Subj1033/sub-CLASS_SUBJ_1033_ses-S001_ONLINE_FES_task-Default_run-001_eeg_markers.csv'), True))\n",
    "subjects['Subj1033']['Online']['Sessions'][0]['Runs'].append(run_parse(pd.read_csv('Data/CSV/Subj1033/sub-CLASS_SUBJ_1033_ses-S001_ONLINE_NOFES_task-Default_run-001_eeg.csv'), pd.read_csv('Data/CSV/Subj1033/sub-CLASS_SUBJ_1033_ses-S001_ONLINE_NOFES_task-Default_run-001_eeg_markers.csv'), False))\n",
    "subjects['Subj1033']['Online']['Sessions'][1]['Runs'].append(run_parse(pd.read_csv('Data/CSV/Subj1033/sub-CLASS_SUBJ_1033_ses-S002ONLINE_FES_task-Default_run-001_eeg.csv'), pd.read_csv('Data/CSV/Subj1033/sub-CLASS_SUBJ_1033_ses-S002ONLINE_FES_task-Default_run-001_eeg_markers.csv'), True))\n",
    "subjects['Subj1033']['Online']['Sessions'][1]['Runs'].append(run_parse(pd.read_csv('Data/CSV/Subj1033/sub-CLASS_SUBJ_1033_ses-S002ONLINE_NOFES_task-Default_run-001_eeg.csv'), pd.read_csv('Data/CSV/Subj1033/sub-CLASS_SUBJ_1033_ses-S002ONLINE_NOFES_task-Default_run-001_eeg_markers.csv'), False))\n",
    "subjects['Subj1033']['Offline']['Sessions'][0]['Runs'].append(run_parse(pd.read_csv('Data/CSV/Subj1033/sub-CLASS_SUBJ_1033_ses-S001_OFFLINE_FES_task-Default_run-001_eeg.csv'), pd.read_csv('Data/CSV/Subj1033/sub-CLASS_SUBJ_1033_ses-S001_OFFLINE_FES_task-Default_run-001_eeg_markers.csv'), True))\n",
    "subjects['Subj1033']['Offline']['Sessions'][1]['Runs'].append(run_parse(pd.read_csv('Data/CSV/Subj1033/sub-CLASS_SUBJ_1033_ses-S002OFFLINE_NOFES_task-Default_run-001_eeg.csv'), pd.read_csv('Data/CSV/Subj1033/sub-CLASS_SUBJ_1033_ses-S002OFFLINE_NOFES_task-Default_run-001_eeg_markers.csv'), False))"
   ]
  },
  {
   "cell_type": "markdown",
   "id": "07782d03",
   "metadata": {},
   "source": [
    "trial data is from rest/mi begin to end, but this excludes most of the data. So, I just included all of the data in the trial (until the next begin). To only look at trial data:"
   ]
  },
  {
   "cell_type": "code",
   "execution_count": 75,
   "id": "83f7ddd9",
   "metadata": {},
   "outputs": [
    {
     "data": {
      "text/plain": [
       "(437570, 44)"
      ]
     },
     "execution_count": 75,
     "metadata": {},
     "output_type": "execute_result"
    }
   ],
   "source": [
    "trial_labels = {'REST_BEGIN', 'REST_END', 'MI_BEGIN', 'MI_END'}\n",
    "trial_eeg_df = eeg_df[eeg_df['OutcomeClass'].isin(trial_labels)]\n",
    "trial_eeg_df.shape"
   ]
  }
 ],
 "metadata": {
  "kernelspec": {
   "display_name": "neural",
   "language": "python",
   "name": "python3"
  },
  "language_info": {
   "codemirror_mode": {
    "name": "ipython",
    "version": 3
   },
   "file_extension": ".py",
   "mimetype": "text/x-python",
   "name": "python",
   "nbconvert_exporter": "python",
   "pygments_lexer": "ipython3",
   "version": "3.13.2"
  }
 },
 "nbformat": 4,
 "nbformat_minor": 5
}
